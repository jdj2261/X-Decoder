{
 "cells": [
  {
   "cell_type": "code",
   "execution_count": 1,
   "metadata": {},
   "outputs": [
    {
     "name": "stdout",
     "output_type": "stream",
     "text": [
      "nvcc: NVIDIA (R) Cuda compiler driver\n",
      "Copyright (c) 2005-2022 NVIDIA Corporation\n",
      "Built on Tue_May__3_18:49:52_PDT_2022\n",
      "Cuda compilation tools, release 11.7, V11.7.64\n",
      "Build cuda_11.7.r11.7/compiler.31294372_0\n",
      "torch:  2.0 ; cuda:  cu117\n",
      "detectron2: 0.6\n"
     ]
    }
   ],
   "source": [
    "import torch, detectron2\n",
    "!nvcc --version\n",
    "TORCH_VERSION = \".\".join(torch.__version__.split(\".\")[:2])\n",
    "CUDA_VERSION = torch.__version__.split(\"+\")[-1]\n",
    "print(\"torch: \", TORCH_VERSION, \"; cuda: \", CUDA_VERSION)\n",
    "print(\"detectron2:\", detectron2.__version__)"
   ]
  },
  {
   "cell_type": "code",
   "execution_count": 2,
   "metadata": {},
   "outputs": [
    {
     "name": "stdout",
     "output_type": "stream",
     "text": [
      "/home/djjin/Mygit/X-Decoder\n"
     ]
    },
    {
     "name": "stderr",
     "output_type": "stream",
     "text": [
      "WARNING: Cannot find VLPreDataset. Make sure datasets are accessible if you want to use them for training or evaluation.\n",
      "WARNING: Cannot find VLPreDataset. Make sure datasets are accessible if you want to use them for training or evaluation.\n",
      "WARNING: Cannot find VLPreDataset. Make sure datasets are accessible if you want to use them for training or evaluation.\n",
      "Invalid MIT-MAGIC-COOKIE-1 key"
     ]
    }
   ],
   "source": [
    "import os\n",
    "import sys\n",
    "import logging\n",
    "import argparse\n",
    "\n",
    "os.environ[\"DATASET\"] = \"../datasets\"\n",
    "pth = '/'.join(sys.path[0].split('/')[:-1])\n",
    "sys.path.insert(0, pth)\n",
    "\n",
    "from pprint import pprint\n",
    "from PIL import Image\n",
    "from copy import deepcopy\n",
    "import numpy as np\n",
    "np.random.seed(1)\n",
    "\n",
    "home_dir = os.path.abspath(os.getcwd()+\"/../\")\n",
    "sys.path.append(home_dir)\n",
    "print(home_dir)\n",
    "\n",
    "import warnings\n",
    "warnings.filterwarnings(action='ignore')\n",
    "logger = logging.getLogger(__name__)\n",
    "\n",
    "import torch\n",
    "from torchvision import transforms\n",
    "from torch.nn import functional as F\n",
    "\n",
    "from detectron2.data import MetadataCatalog\n",
    "from detectron2.utils.colormap import random_color\n",
    "from detectron2.structures import Boxes, ImageList, Instances, BitMasks, BoxMode\n",
    "\n",
    "from hdecoder.BaseModel import BaseModel\n",
    "from hdecoder import build_model\n",
    "\n",
    "from utils.arguments import load_opt_command\n",
    "from utils.misc import hook_metadata, hook_switcher, hook_opt\n",
    "from utils.distributed import init_distributed\n",
    "from utils.arguments import load_opt_from_config_files, load_config_dict_to_opt"
   ]
  },
  {
   "cell_type": "code",
   "execution_count": 3,
   "metadata": {},
   "outputs": [],
   "source": [
    "parser = argparse.ArgumentParser(description='Pretrain or fine-tune models for NLP tasks.')\n",
    "parser.add_argument('--command', default=\"evaluate\", help='Command: train/evaluate/train-and-evaluate')\n",
    "parser.add_argument('--conf_files', nargs='+', help='Path(s) to the config file(s).')\n",
    "parser.add_argument('--user_dir', help='Path to the user defined module for tasks (models, criteria), optimizers, and lr schedulers.')\n",
    "parser.add_argument('--config_overrides', nargs='*', help='Override parameters on config with a json style string, e.g. {\"<PARAM_NAME_1>\": <PARAM_VALUE_1>, \"<PARAM_GROUP_2>.<PARAM_SUBGROUP_2>.<PARAM_2>\": <PARAM_VALUE_2>}. A key with \".\" updates the object in the corresponding nested dict. Remember to escape \" in command line.')\n",
    "parser.add_argument('--overrides', help='arguments that used to override the config file in cmdline', nargs=argparse.REMAINDER)\n",
    "\n",
    "cmdline_args = parser.parse_args('')\n",
    "# cmdline_args.conf_files = [os.path.join(home_dir, \"configs/xdecoder/svlp_focalt_lang.yaml\")]\n",
    "cmdline_args.conf_files = [os.path.join(home_dir, \"configs/hdecoder/vcoco.yaml\")]\n",
    "cmdline_args.overrides = ['WEIGHT', '../checkpoints/xdecoder_focalt_best_openseg.pt'] \n",
    "cmdline_args.overrides\n",
    "\n",
    "opt = load_opt_from_config_files(cmdline_args.conf_files)\n",
    "\n",
    "keys = [cmdline_args.overrides[idx*2] for idx in range(len(cmdline_args.overrides)//2)]\n",
    "vals = [cmdline_args.overrides[idx*2+1] for idx in range(len(cmdline_args.overrides)//2)]\n",
    "vals = [val.replace('false', '').replace('False','') if len(val.replace(' ', '')) == 5 else val for val in vals]\n",
    "types = []\n",
    "for key in keys:\n",
    "    key = key.split('.')\n",
    "    ele = opt.copy()\n",
    "    while len(key) > 0:\n",
    "        ele = ele[key.pop(0)]\n",
    "    types.append(type(ele))\n",
    "\n",
    "config_dict = {x:z(y) for x,y,z in zip(keys, vals, types)}\n",
    "config_dict\n",
    "\n",
    "load_config_dict_to_opt(opt, config_dict)\n",
    "for key, val in cmdline_args.__dict__.items():\n",
    "    if val is not None:\n",
    "        opt[key] = val\n",
    "opt = init_distributed(opt)"
   ]
  },
  {
   "attachments": {},
   "cell_type": "markdown",
   "metadata": {},
   "source": [
    "## Model"
   ]
  },
  {
   "cell_type": "code",
   "execution_count": 4,
   "metadata": {},
   "outputs": [],
   "source": [
    "model = BaseModel(opt, build_model(opt)).train().cuda()"
   ]
  },
  {
   "cell_type": "code",
   "execution_count": 5,
   "metadata": {},
   "outputs": [],
   "source": [
    "# model"
   ]
  },
  {
   "attachments": {},
   "cell_type": "markdown",
   "metadata": {},
   "source": [
    "## Train Dataloader"
   ]
  },
  {
   "cell_type": "code",
   "execution_count": 7,
   "metadata": {},
   "outputs": [],
   "source": [
    "from hdecoder.modules.criterion import SetCriterionHOI\n",
    "from hdecoder.modules.matcher import HungarianMatcherHOI\n",
    "\n",
    "matcher = HungarianMatcherHOI(\n",
    "    cost_obj_class=1, \n",
    "    cost_verb_class=1,\n",
    "    cost_bbox=2.5, \n",
    "    cost_giou=1, \n",
    "    cost_matching=1).cuda()\n",
    "\n",
    "weight_dict = {}\n",
    "weight_dict['loss_obj_ce'] = 1\n",
    "weight_dict['loss_verb_ce'] = 2\n",
    "weight_dict['loss_sub_bbox'] = 2.5\n",
    "weight_dict['loss_obj_bbox'] = 2.5\n",
    "weight_dict['loss_sub_giou'] = 1\n",
    "weight_dict['loss_obj_giou'] = 1\n",
    "losses = ['obj_labels', 'verb_labels', 'sub_obj_boxes', 'obj_cardinality']\n",
    "\n",
    "num_obj_classes = 80\n",
    "num_queries = 100\n",
    "num_verb_classes = 29\n",
    "eos_coef = 0.1\n",
    "criterion = SetCriterionHOI(\n",
    "    num_obj_classes, num_queries, num_verb_classes, matcher=matcher,\n",
    "                            weight_dict=weight_dict, eos_coef=eos_coef, losses=losses).cuda()"
   ]
  },
  {
   "cell_type": "code",
   "execution_count": 8,
   "metadata": {},
   "outputs": [
    {
     "name": "stdout",
     "output_type": "stream",
     "text": [
      "Dataset length: 5400\n"
     ]
    }
   ],
   "source": [
    "from datasets.build import build_train_dataloader\n",
    "train_data_loader = build_train_dataloader(opt)\n",
    "dataset_names = opt['DATASETS']['TRAIN']"
   ]
  },
  {
   "cell_type": "code",
   "execution_count": 9,
   "metadata": {},
   "outputs": [
    {
     "name": "stdout",
     "output_type": "stream",
     "text": [
      "{'loss_obj_bbox': tensor(1.2232, device='cuda:0'),\n",
      " 'loss_obj_bbox_0': tensor(1.2124, device='cuda:0'),\n",
      " 'loss_obj_bbox_1': tensor(1.2157, device='cuda:0'),\n",
      " 'loss_obj_ce': tensor(4.1102, device='cuda:0'),\n",
      " 'loss_obj_ce_0': tensor(4.1821, device='cuda:0'),\n",
      " 'loss_obj_ce_1': tensor(4.1159, device='cuda:0'),\n",
      " 'loss_obj_giou': tensor(1.2102, device='cuda:0'),\n",
      " 'loss_obj_giou_0': tensor(1.2098, device='cuda:0'),\n",
      " 'loss_obj_giou_1': tensor(1.2110, device='cuda:0'),\n",
      " 'loss_sub_bbox': tensor(0.6566, device='cuda:0'),\n",
      " 'loss_sub_bbox_0': tensor(0.6635, device='cuda:0'),\n",
      " 'loss_sub_bbox_1': tensor(0.6575, device='cuda:0'),\n",
      " 'loss_sub_giou': tensor(0.8068, device='cuda:0'),\n",
      " 'loss_sub_giou_0': tensor(0.8007, device='cuda:0'),\n",
      " 'loss_sub_giou_1': tensor(0.7964, device='cuda:0'),\n",
      " 'loss_verb_ce': tensor(105.3724, device='cuda:0'),\n",
      " 'loss_verb_ce_0': tensor(93.1283, device='cuda:0'),\n",
      " 'loss_verb_ce_1': tensor(100.1431, device='cuda:0'),\n",
      " 'obj_cardinality_error': tensor(98., device='cuda:0'),\n",
      " 'obj_cardinality_error_0': tensor(97.5000, device='cuda:0'),\n",
      " 'obj_cardinality_error_1': tensor(98., device='cuda:0'),\n",
      " 'obj_class_error': tensor(100., device='cuda:0')}\n",
      "{'loss_obj_bbox': tensor(0.8876, device='cuda:0'),\n",
      " 'loss_obj_bbox_0': tensor(0.8782, device='cuda:0'),\n",
      " 'loss_obj_bbox_1': tensor(0.8820, device='cuda:0'),\n",
      " 'loss_obj_ce': tensor(4.1219, device='cuda:0'),\n",
      " 'loss_obj_ce_0': tensor(4.1609, device='cuda:0'),\n",
      " 'loss_obj_ce_1': tensor(4.1410, device='cuda:0'),\n",
      " 'loss_obj_giou': tensor(0.9822, device='cuda:0'),\n",
      " 'loss_obj_giou_0': tensor(0.9724, device='cuda:0'),\n",
      " 'loss_obj_giou_1': tensor(0.9821, device='cuda:0'),\n",
      " 'loss_sub_bbox': tensor(0.5959, device='cuda:0'),\n",
      " 'loss_sub_bbox_0': tensor(0.5870, device='cuda:0'),\n",
      " 'loss_sub_bbox_1': tensor(0.5861, device='cuda:0'),\n",
      " 'loss_sub_giou': tensor(0.5543, device='cuda:0'),\n",
      " 'loss_sub_giou_0': tensor(0.5514, device='cuda:0'),\n",
      " 'loss_sub_giou_1': tensor(0.5460, device='cuda:0'),\n",
      " 'loss_verb_ce': tensor(144.0640, device='cuda:0'),\n",
      " 'loss_verb_ce_0': tensor(129.5293, device='cuda:0'),\n",
      " 'loss_verb_ce_1': tensor(137.8162, device='cuda:0'),\n",
      " 'obj_cardinality_error': tensor(99., device='cuda:0'),\n",
      " 'obj_cardinality_error_0': tensor(99., device='cuda:0'),\n",
      " 'obj_cardinality_error_1': tensor(99., device='cuda:0'),\n",
      " 'obj_class_error': tensor(100., device='cuda:0')}\n",
      "{'loss_obj_bbox': tensor(1.1708, device='cuda:0'),\n",
      " 'loss_obj_bbox_0': tensor(1.1565, device='cuda:0'),\n",
      " 'loss_obj_bbox_1': tensor(1.1636, device='cuda:0'),\n",
      " 'loss_obj_ce': tensor(4.0417, device='cuda:0'),\n",
      " 'loss_obj_ce_0': tensor(4.1284, device='cuda:0'),\n",
      " 'loss_obj_ce_1': tensor(4.0376, device='cuda:0'),\n",
      " 'loss_obj_giou': tensor(1.2068, device='cuda:0'),\n",
      " 'loss_obj_giou_0': tensor(1.1935, device='cuda:0'),\n",
      " 'loss_obj_giou_1': tensor(1.1997, device='cuda:0'),\n",
      " 'loss_sub_bbox': tensor(0.7287, device='cuda:0'),\n",
      " 'loss_sub_bbox_0': tensor(0.7556, device='cuda:0'),\n",
      " 'loss_sub_bbox_1': tensor(0.7369, device='cuda:0'),\n",
      " 'loss_sub_giou': tensor(0.8985, device='cuda:0'),\n",
      " 'loss_sub_giou_0': tensor(0.9303, device='cuda:0'),\n",
      " 'loss_sub_giou_1': tensor(0.9183, device='cuda:0'),\n",
      " 'loss_verb_ce': tensor(99.0404, device='cuda:0'),\n",
      " 'loss_verb_ce_0': tensor(89.9737, device='cuda:0'),\n",
      " 'loss_verb_ce_1': tensor(94.8496, device='cuda:0'),\n",
      " 'obj_cardinality_error': tensor(99.5000, device='cuda:0'),\n",
      " 'obj_cardinality_error_0': tensor(99.5000, device='cuda:0'),\n",
      " 'obj_cardinality_error_1': tensor(99.5000, device='cuda:0'),\n",
      " 'obj_class_error': tensor(100., device='cuda:0')}\n"
     ]
    }
   ],
   "source": [
    "with torch.no_grad():\n",
    "    for idx, batch in enumerate(train_data_loader):\n",
    "        if idx > 2:\n",
    "            break\n",
    "        # print(batch)\n",
    "        losses = model(batch)\n",
    "        pprint(losses)"
   ]
  },
  {
   "cell_type": "code",
   "execution_count": null,
   "metadata": {},
   "outputs": [],
   "source": []
  }
 ],
 "metadata": {
  "kernelspec": {
   "display_name": "conda_X_decoder",
   "language": "python",
   "name": "python3"
  },
  "language_info": {
   "codemirror_mode": {
    "name": "ipython",
    "version": 3
   },
   "file_extension": ".py",
   "mimetype": "text/x-python",
   "name": "python",
   "nbconvert_exporter": "python",
   "pygments_lexer": "ipython3",
   "version": "3.9.16"
  },
  "orig_nbformat": 4
 },
 "nbformat": 4,
 "nbformat_minor": 2
}
