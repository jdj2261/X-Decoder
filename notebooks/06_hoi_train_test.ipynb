{
 "cells": [
  {
   "cell_type": "code",
   "execution_count": 1,
   "metadata": {},
   "outputs": [
    {
     "name": "stderr",
     "output_type": "stream",
     "text": [
      "/home/djjin/anaconda3/envs/conda_visual_HPE/lib/python3.9/site-packages/tqdm/auto.py:21: TqdmWarning: IProgress not found. Please update jupyter and ipywidgets. See https://ipywidgets.readthedocs.io/en/stable/user_install.html\n",
      "  from .autonotebook import tqdm as notebook_tqdm\n"
     ]
    },
    {
     "name": "stdout",
     "output_type": "stream",
     "text": [
      "nvcc: NVIDIA (R) Cuda compiler driver\n",
      "Copyright (c) 2005-2022 NVIDIA Corporation\n",
      "Built on Tue_May__3_18:49:52_PDT_2022\n",
      "Cuda compilation tools, release 11.7, V11.7.64\n",
      "Build cuda_11.7.r11.7/compiler.31294372_0\n",
      "torch:  1.13 ; cuda:  cu117\n",
      "detectron2: 0.6\n"
     ]
    }
   ],
   "source": [
    "import torch, detectron2\n",
    "!nvcc --version\n",
    "TORCH_VERSION = \".\".join(torch.__version__.split(\".\")[:2])\n",
    "CUDA_VERSION = torch.__version__.split(\"+\")[-1]\n",
    "print(\"torch: \", TORCH_VERSION, \"; cuda: \", CUDA_VERSION)\n",
    "print(\"detectron2:\", detectron2.__version__)"
   ]
  },
  {
   "cell_type": "code",
   "execution_count": 2,
   "metadata": {},
   "outputs": [
    {
     "name": "stdout",
     "output_type": "stream",
     "text": [
      "/home/djjin/Mygit/X-Decoder\n"
     ]
    },
    {
     "name": "stderr",
     "output_type": "stream",
     "text": [
      "Invalid MIT-MAGIC-COOKIE-1 key"
     ]
    }
   ],
   "source": [
    "import os\n",
    "import sys\n",
    "import logging\n",
    "import argparse\n",
    "\n",
    "pth = '/'.join(sys.path[0].split('/')[:-1])\n",
    "sys.path.insert(0, pth)\n",
    "\n",
    "from pprint import pprint\n",
    "from PIL import Image\n",
    "from copy import deepcopy\n",
    "import numpy as np\n",
    "np.random.seed(1)\n",
    "\n",
    "home_dir = os.path.abspath(os.getcwd()+\"/../\")\n",
    "sys.path.append(home_dir)\n",
    "print(home_dir)\n",
    "\n",
    "import warnings\n",
    "warnings.filterwarnings(action='ignore')\n",
    "logger = logging.getLogger(__name__)\n",
    "\n",
    "import torch\n",
    "from torchvision import transforms\n",
    "from torch.nn import functional as F\n",
    "\n",
    "from detectron2.data import MetadataCatalog\n",
    "from detectron2.utils.colormap import random_color\n",
    "from detectron2.structures import Boxes, ImageList, Instances, BitMasks, BoxMode\n",
    "\n",
    "from hdecoder.BaseModel import BaseModel\n",
    "from hdecoder import build_model\n",
    "\n",
    "from utils.arguments import load_opt_command\n",
    "from utils.misc import hook_metadata, hook_switcher, hook_opt\n",
    "from utils.distributed import init_distributed\n",
    "from utils.arguments import load_opt_from_config_files, load_config_dict_to_opt"
   ]
  },
  {
   "cell_type": "code",
   "execution_count": 3,
   "metadata": {},
   "outputs": [],
   "source": [
    "parser = argparse.ArgumentParser(description='Pretrain or fine-tune models for NLP tasks.')\n",
    "parser.add_argument('--command', default=\"evaluate\", help='Command: train/evaluate/train-and-evaluate')\n",
    "parser.add_argument('--conf_files', nargs='+', help='Path(s) to the config file(s).')\n",
    "parser.add_argument('--user_dir', help='Path to the user defined module for tasks (models, criteria), optimizers, and lr schedulers.')\n",
    "parser.add_argument('--config_overrides', nargs='*', help='Override parameters on config with a json style string, e.g. {\"<PARAM_NAME_1>\": <PARAM_VALUE_1>, \"<PARAM_GROUP_2>.<PARAM_SUBGROUP_2>.<PARAM_2>\": <PARAM_VALUE_2>}. A key with \".\" updates the object in the corresponding nested dict. Remember to escape \" in command line.')\n",
    "parser.add_argument('--overrides', help='arguments that used to override the config file in cmdline', nargs=argparse.REMAINDER)\n",
    "\n",
    "cmdline_args = parser.parse_args('')\n",
    "# cmdline_args.conf_files = [os.path.join(home_dir, \"configs/xdecoder/svlp_focalt_lang.yaml\")]\n",
    "cmdline_args.conf_files = [os.path.join(home_dir, \"configs/xdecoder/vcoco.yaml\")]\n",
    "cmdline_args.overrides = ['WEIGHT', '../checkpoints/xdecoder_focalt_best_openseg.pt'] \n",
    "cmdline_args.overrides\n",
    "\n",
    "opt = load_opt_from_config_files(cmdline_args.conf_files)\n",
    "\n",
    "keys = [cmdline_args.overrides[idx*2] for idx in range(len(cmdline_args.overrides)//2)]\n",
    "vals = [cmdline_args.overrides[idx*2+1] for idx in range(len(cmdline_args.overrides)//2)]\n",
    "vals = [val.replace('false', '').replace('False','') if len(val.replace(' ', '')) == 5 else val for val in vals]\n",
    "types = []\n",
    "for key in keys:\n",
    "    key = key.split('.')\n",
    "    ele = opt.copy()\n",
    "    while len(key) > 0:\n",
    "        ele = ele[key.pop(0)]\n",
    "    types.append(type(ele))\n",
    "\n",
    "config_dict = {x:z(y) for x,y,z in zip(keys, vals, types)}\n",
    "config_dict\n",
    "\n",
    "load_config_dict_to_opt(opt, config_dict)\n",
    "for key, val in cmdline_args.__dict__.items():\n",
    "    if val is not None:\n",
    "        opt[key] = val\n",
    "opt = init_distributed(opt)"
   ]
  },
  {
   "attachments": {},
   "cell_type": "markdown",
   "metadata": {},
   "source": [
    "## Model"
   ]
  },
  {
   "cell_type": "code",
   "execution_count": 4,
   "metadata": {},
   "outputs": [],
   "source": [
    "model = BaseModel(opt, build_model(opt)).train().cuda()"
   ]
  },
  {
   "cell_type": "code",
   "execution_count": 5,
   "metadata": {},
   "outputs": [],
   "source": [
    "# model"
   ]
  },
  {
   "cell_type": "code",
   "execution_count": 6,
   "metadata": {},
   "outputs": [],
   "source": [
    "# t = []\n",
    "# t.append(transforms.Resize(800, interpolation=Image.BICUBIC))\n",
    "# transform = transforms.Compose(t)\n",
    "# pixel_mean = torch.Tensor([123.675, 116.280, 103.530]).view(-1, 1, 1).cuda()\n",
    "# pixel_std = torch.Tensor([58.395, 57.120, 57.375]).view(-1, 1, 1).cuda()\n",
    "# image_pth = '../images/animals.png'\n",
    "\n",
    "# with torch.no_grad():\n",
    "#     image_ori = Image.open(image_pth).convert('RGB')\n",
    "#     width = image_ori.size[0]\n",
    "#     height = image_ori.size[1]\n",
    "#     image = transform(image_ori)\n",
    "#     image = np.asarray(image)\n",
    "#     image_ori = np.asarray(image_ori)\n",
    "#     images = torch.from_numpy(image.copy()).permute(2,0,1).cuda()\n",
    "#     batch_inputs = [{'image': images, 'height': height, 'width': width}]\n",
    "#     # out = model.forward(batch_inputs)\n",
    "#     # print(out)"
   ]
  },
  {
   "attachments": {},
   "cell_type": "markdown",
   "metadata": {},
   "source": [
    "## Train Dataloader"
   ]
  },
  {
   "cell_type": "code",
   "execution_count": 7,
   "metadata": {},
   "outputs": [
    {
     "name": "stderr",
     "output_type": "stream",
     "text": [
      "WARNING: Cannot find VLPreDataset. Make sure datasets are accessible if you want to use them for training or evaluation.\n",
      "WARNING: Cannot find VLPreDataset. Make sure datasets are accessible if you want to use them for training or evaluation.\n",
      "WARNING: Cannot find VLPreDataset. Make sure datasets are accessible if you want to use them for training or evaluation.\n"
     ]
    }
   ],
   "source": [
    "from datasets.registration.register_vcoco_dataset import register_all_vcoco\n",
    "_root = os.getenv(\"DATASET\", \"../datasets\")\n",
    "register_all_vcoco(_root)"
   ]
  },
  {
   "cell_type": "code",
   "execution_count": 8,
   "metadata": {},
   "outputs": [],
   "source": [
    "from hdecoder.modules.criterion import SetCriterionHOI\n",
    "from hdecoder.modules.matcher import HungarianMatcherHOI\n",
    "\n",
    "matcher = HungarianMatcherHOI(\n",
    "    cost_obj_class=1, \n",
    "    cost_verb_class=1,\n",
    "    cost_bbox=2.5, \n",
    "    cost_giou=1, \n",
    "    cost_matching=1).cuda()\n",
    "\n",
    "weight_dict = {}\n",
    "weight_dict['loss_obj_ce'] = 1\n",
    "weight_dict['loss_verb_ce'] = 2\n",
    "weight_dict['loss_sub_bbox'] = 2.5\n",
    "weight_dict['loss_obj_bbox'] = 2.5\n",
    "weight_dict['loss_sub_giou'] = 1\n",
    "weight_dict['loss_obj_giou'] = 1\n",
    "losses = ['obj_labels', 'verb_labels', 'sub_obj_boxes', 'obj_cardinality']\n",
    "\n",
    "num_obj_classes = 80\n",
    "num_queries = 100\n",
    "num_verb_classes = 29\n",
    "eos_coef = 0.1\n",
    "criterion = SetCriterionHOI(\n",
    "    num_obj_classes, num_queries, num_verb_classes, matcher=matcher,\n",
    "                            weight_dict=weight_dict, eos_coef=eos_coef, losses=losses).cuda()"
   ]
  },
  {
   "cell_type": "code",
   "execution_count": 9,
   "metadata": {},
   "outputs": [],
   "source": [
    "from datasets.build import build_train_dataloader\n",
    "train_data_loader = [build_train_dataloader(opt)]\n",
    "dataset_names = opt['DATASETS']['TRAIN']"
   ]
  },
  {
   "cell_type": "code",
   "execution_count": 10,
   "metadata": {},
   "outputs": [
    {
     "name": "stdout",
     "output_type": "stream",
     "text": [
      "{'loss_obj_bbox': tensor(1.1783, device='cuda:0'),\n",
      " 'loss_obj_ce': tensor(4.7438, device='cuda:0'),\n",
      " 'loss_obj_giou': tensor(1.1937, device='cuda:0'),\n",
      " 'loss_sub_bbox': tensor(0.8894, device='cuda:0'),\n",
      " 'loss_sub_giou': tensor(1.1627, device='cuda:0'),\n",
      " 'loss_verb_ce': tensor(228.8560, device='cuda:0'),\n",
      " 'obj_cardinality_error': tensor(100., device='cuda:0'),\n",
      " 'obj_class_error': tensor(100., device='cuda:0')}\n",
      "{'loss_obj_bbox': tensor(0.9525, device='cuda:0'),\n",
      " 'loss_obj_ce': tensor(4.8186, device='cuda:0'),\n",
      " 'loss_obj_giou': tensor(1.1995, device='cuda:0'),\n",
      " 'loss_sub_bbox': tensor(0.8073, device='cuda:0'),\n",
      " 'loss_sub_giou': tensor(1.0595, device='cuda:0'),\n",
      " 'loss_verb_ce': tensor(74.8375, device='cuda:0'),\n",
      " 'obj_cardinality_error': tensor(99., device='cuda:0'),\n",
      " 'obj_class_error': tensor(100., device='cuda:0')}\n",
      "{'loss_obj_bbox': tensor(1.1688, device='cuda:0'),\n",
      " 'loss_obj_ce': tensor(4.7719, device='cuda:0'),\n",
      " 'loss_obj_giou': tensor(1.4906, device='cuda:0'),\n",
      " 'loss_sub_bbox': tensor(0.9490, device='cuda:0'),\n",
      " 'loss_sub_giou': tensor(1.2161, device='cuda:0'),\n",
      " 'loss_verb_ce': tensor(224.0269, device='cuda:0'),\n",
      " 'obj_cardinality_error': tensor(99., device='cuda:0'),\n",
      " 'obj_class_error': tensor(100., device='cuda:0')}\n",
      "{'loss_obj_bbox': tensor(0.9282, device='cuda:0'),\n",
      " 'loss_obj_ce': tensor(4.7163, device='cuda:0'),\n",
      " 'loss_obj_giou': tensor(1.0848, device='cuda:0'),\n",
      " 'loss_sub_bbox': tensor(0.3550, device='cuda:0'),\n",
      " 'loss_sub_giou': tensor(0.7811, device='cuda:0'),\n",
      " 'loss_verb_ce': tensor(88.3790, device='cuda:0'),\n",
      " 'obj_cardinality_error': tensor(99., device='cuda:0'),\n",
      " 'obj_class_error': tensor(100., device='cuda:0')}\n",
      "{'loss_obj_bbox': tensor(0.7385, device='cuda:0'),\n",
      " 'loss_obj_ce': tensor(4.7685, device='cuda:0'),\n",
      " 'loss_obj_giou': tensor(1.1728, device='cuda:0'),\n",
      " 'loss_sub_bbox': tensor(0.4785, device='cuda:0'),\n",
      " 'loss_sub_giou': tensor(0.8827, device='cuda:0'),\n",
      " 'loss_verb_ce': tensor(111.0530, device='cuda:0'),\n",
      " 'obj_cardinality_error': tensor(99., device='cuda:0'),\n",
      " 'obj_class_error': tensor(100., device='cuda:0')}\n",
      "{'loss_obj_bbox': tensor(1.3078, device='cuda:0'),\n",
      " 'loss_obj_ce': tensor(4.6247, device='cuda:0'),\n",
      " 'loss_obj_giou': tensor(1.1404, device='cuda:0'),\n",
      " 'loss_sub_bbox': tensor(0.6433, device='cuda:0'),\n",
      " 'loss_sub_giou': tensor(1.0142, device='cuda:0'),\n",
      " 'loss_verb_ce': tensor(34.6456, device='cuda:0'),\n",
      " 'obj_cardinality_error': tensor(93., device='cuda:0'),\n",
      " 'obj_class_error': tensor(100., device='cuda:0')}\n"
     ]
    }
   ],
   "source": [
    "for dataloader, dataset_name in zip(train_data_loader, dataset_names):\n",
    "    with torch.no_grad():\n",
    "        for idx, batch in enumerate(dataloader):\n",
    "            if idx > 2:\n",
    "                break\n",
    "            for test in batch:\n",
    "                samples = test[\"image\"]\n",
    "                targets = test[\"instances\"]\n",
    "                targets = [{k: v.to(\"cuda\") for k, v in targets.items() if k != 'filename'}]\n",
    "                batch_inputs = [{'image': samples}]\n",
    "                outputs = model(batch_inputs)\n",
    "                loss = criterion(outputs, targets)\n",
    "                pprint(loss)\n"
   ]
  }
 ],
 "metadata": {
  "kernelspec": {
   "display_name": "conda_X_decoder",
   "language": "python",
   "name": "python3"
  },
  "language_info": {
   "codemirror_mode": {
    "name": "ipython",
    "version": 3
   },
   "file_extension": ".py",
   "mimetype": "text/x-python",
   "name": "python",
   "nbconvert_exporter": "python",
   "pygments_lexer": "ipython3",
   "version": "3.9.0"
  },
  "orig_nbformat": 4
 },
 "nbformat": 4,
 "nbformat_minor": 2
}
