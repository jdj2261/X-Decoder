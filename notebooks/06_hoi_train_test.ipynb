{
 "cells": [
  {
   "cell_type": "code",
   "execution_count": 1,
   "metadata": {},
   "outputs": [
    {
     "name": "stderr",
     "output_type": "stream",
     "text": [
      "/home/djjin/anaconda3/envs/conda_visual_HPE/lib/python3.9/site-packages/tqdm/auto.py:21: TqdmWarning: IProgress not found. Please update jupyter and ipywidgets. See https://ipywidgets.readthedocs.io/en/stable/user_install.html\n",
      "  from .autonotebook import tqdm as notebook_tqdm\n"
     ]
    },
    {
     "name": "stdout",
     "output_type": "stream",
     "text": [
      "nvcc: NVIDIA (R) Cuda compiler driver\n",
      "Copyright (c) 2005-2022 NVIDIA Corporation\n",
      "Built on Tue_May__3_18:49:52_PDT_2022\n",
      "Cuda compilation tools, release 11.7, V11.7.64\n",
      "Build cuda_11.7.r11.7/compiler.31294372_0\n",
      "torch:  1.13 ; cuda:  cu117\n",
      "detectron2: 0.6\n"
     ]
    }
   ],
   "source": [
    "import torch, detectron2\n",
    "!nvcc --version\n",
    "TORCH_VERSION = \".\".join(torch.__version__.split(\".\")[:2])\n",
    "CUDA_VERSION = torch.__version__.split(\"+\")[-1]\n",
    "print(\"torch: \", TORCH_VERSION, \"; cuda: \", CUDA_VERSION)\n",
    "print(\"detectron2:\", detectron2.__version__)"
   ]
  },
  {
   "cell_type": "code",
   "execution_count": 2,
   "metadata": {},
   "outputs": [
    {
     "name": "stdout",
     "output_type": "stream",
     "text": [
      "/home/djjin/Mygit/X-Decoder\n"
     ]
    },
    {
     "name": "stderr",
     "output_type": "stream",
     "text": [
      "Invalid MIT-MAGIC-COOKIE-1 key"
     ]
    }
   ],
   "source": [
    "import os\n",
    "import sys\n",
    "import logging\n",
    "import argparse\n",
    "\n",
    "pth = '/'.join(sys.path[0].split('/')[:-1])\n",
    "sys.path.insert(0, pth)\n",
    "\n",
    "from pprint import pprint\n",
    "from PIL import Image\n",
    "from copy import deepcopy\n",
    "import numpy as np\n",
    "np.random.seed(1)\n",
    "\n",
    "home_dir = os.path.abspath(os.getcwd()+\"/../\")\n",
    "sys.path.append(home_dir)\n",
    "print(home_dir)\n",
    "\n",
    "import warnings\n",
    "warnings.filterwarnings(action='ignore')\n",
    "logger = logging.getLogger(__name__)\n",
    "\n",
    "import torch\n",
    "from torchvision import transforms\n",
    "from torch.nn import functional as F\n",
    "\n",
    "from detectron2.data import MetadataCatalog\n",
    "from detectron2.utils.colormap import random_color\n",
    "from detectron2.structures import Boxes, ImageList, Instances, BitMasks, BoxMode\n",
    "\n",
    "from hdecoder.BaseModel import BaseModel\n",
    "from hdecoder import build_model\n",
    "\n",
    "from utils.arguments import load_opt_command\n",
    "from utils.misc import hook_metadata, hook_switcher, hook_opt\n",
    "from utils.distributed import init_distributed\n",
    "from utils.arguments import load_opt_from_config_files, load_config_dict_to_opt"
   ]
  },
  {
   "cell_type": "code",
   "execution_count": 3,
   "metadata": {},
   "outputs": [],
   "source": [
    "parser = argparse.ArgumentParser(description='Pretrain or fine-tune models for NLP tasks.')\n",
    "parser.add_argument('--command', default=\"evaluate\", help='Command: train/evaluate/train-and-evaluate')\n",
    "parser.add_argument('--conf_files', nargs='+', help='Path(s) to the config file(s).')\n",
    "parser.add_argument('--user_dir', help='Path to the user defined module for tasks (models, criteria), optimizers, and lr schedulers.')\n",
    "parser.add_argument('--config_overrides', nargs='*', help='Override parameters on config with a json style string, e.g. {\"<PARAM_NAME_1>\": <PARAM_VALUE_1>, \"<PARAM_GROUP_2>.<PARAM_SUBGROUP_2>.<PARAM_2>\": <PARAM_VALUE_2>}. A key with \".\" updates the object in the corresponding nested dict. Remember to escape \" in command line.')\n",
    "parser.add_argument('--overrides', help='arguments that used to override the config file in cmdline', nargs=argparse.REMAINDER)\n",
    "\n",
    "cmdline_args = parser.parse_args('')\n",
    "# cmdline_args.conf_files = [os.path.join(home_dir, \"configs/xdecoder/svlp_focalt_lang.yaml\")]\n",
    "cmdline_args.conf_files = [os.path.join(home_dir, \"configs/xdecoder/vcoco.yaml\")]\n",
    "cmdline_args.overrides = ['WEIGHT', '../checkpoints/xdecoder_focalt_best_openseg.pt'] \n",
    "cmdline_args.overrides\n",
    "\n",
    "opt = load_opt_from_config_files(cmdline_args.conf_files)\n",
    "\n",
    "keys = [cmdline_args.overrides[idx*2] for idx in range(len(cmdline_args.overrides)//2)]\n",
    "vals = [cmdline_args.overrides[idx*2+1] for idx in range(len(cmdline_args.overrides)//2)]\n",
    "vals = [val.replace('false', '').replace('False','') if len(val.replace(' ', '')) == 5 else val for val in vals]\n",
    "types = []\n",
    "for key in keys:\n",
    "    key = key.split('.')\n",
    "    ele = opt.copy()\n",
    "    while len(key) > 0:\n",
    "        ele = ele[key.pop(0)]\n",
    "    types.append(type(ele))\n",
    "\n",
    "config_dict = {x:z(y) for x,y,z in zip(keys, vals, types)}\n",
    "config_dict\n",
    "\n",
    "load_config_dict_to_opt(opt, config_dict)\n",
    "for key, val in cmdline_args.__dict__.items():\n",
    "    if val is not None:\n",
    "        opt[key] = val\n",
    "opt = init_distributed(opt)"
   ]
  },
  {
   "attachments": {},
   "cell_type": "markdown",
   "metadata": {},
   "source": [
    "## Model"
   ]
  },
  {
   "cell_type": "code",
   "execution_count": 4,
   "metadata": {},
   "outputs": [],
   "source": [
    "model = BaseModel(opt, build_model(opt)).train().cuda()"
   ]
  },
  {
   "cell_type": "code",
   "execution_count": 5,
   "metadata": {},
   "outputs": [],
   "source": [
    "# model"
   ]
  },
  {
   "attachments": {},
   "cell_type": "markdown",
   "metadata": {},
   "source": [
    "## Train Dataloader"
   ]
  },
  {
   "cell_type": "code",
   "execution_count": 6,
   "metadata": {},
   "outputs": [
    {
     "name": "stderr",
     "output_type": "stream",
     "text": [
      "WARNING: Cannot find VLPreDataset. Make sure datasets are accessible if you want to use them for training or evaluation.\n",
      "WARNING: Cannot find VLPreDataset. Make sure datasets are accessible if you want to use them for training or evaluation.\n",
      "WARNING: Cannot find VLPreDataset. Make sure datasets are accessible if you want to use them for training or evaluation.\n"
     ]
    }
   ],
   "source": [
    "from datasets.registration.register_vcoco_dataset import register_all_vcoco\n",
    "_root = os.getenv(\"DATASET\", \"../datasets\")\n",
    "register_all_vcoco(_root)"
   ]
  },
  {
   "cell_type": "code",
   "execution_count": 7,
   "metadata": {},
   "outputs": [],
   "source": [
    "from hdecoder.modules.criterion import SetCriterionHOI\n",
    "from hdecoder.modules.matcher import HungarianMatcherHOI\n",
    "\n",
    "matcher = HungarianMatcherHOI(\n",
    "    cost_obj_class=1, \n",
    "    cost_verb_class=1,\n",
    "    cost_bbox=2.5, \n",
    "    cost_giou=1, \n",
    "    cost_matching=1).cuda()\n",
    "\n",
    "weight_dict = {}\n",
    "weight_dict['loss_obj_ce'] = 1\n",
    "weight_dict['loss_verb_ce'] = 2\n",
    "weight_dict['loss_sub_bbox'] = 2.5\n",
    "weight_dict['loss_obj_bbox'] = 2.5\n",
    "weight_dict['loss_sub_giou'] = 1\n",
    "weight_dict['loss_obj_giou'] = 1\n",
    "losses = ['obj_labels', 'verb_labels', 'sub_obj_boxes', 'obj_cardinality']\n",
    "\n",
    "num_obj_classes = 80\n",
    "num_queries = 100\n",
    "num_verb_classes = 29\n",
    "eos_coef = 0.1\n",
    "criterion = SetCriterionHOI(\n",
    "    num_obj_classes, num_queries, num_verb_classes, matcher=matcher,\n",
    "                            weight_dict=weight_dict, eos_coef=eos_coef, losses=losses).cuda()"
   ]
  },
  {
   "cell_type": "code",
   "execution_count": 8,
   "metadata": {},
   "outputs": [],
   "source": [
    "from datasets.build import build_train_dataloader\n",
    "train_data_loader = [build_train_dataloader(opt)]\n",
    "dataset_names = opt['DATASETS']['TRAIN']"
   ]
  },
  {
   "cell_type": "code",
   "execution_count": 9,
   "metadata": {},
   "outputs": [
    {
     "name": "stdout",
     "output_type": "stream",
     "text": [
      "[dict_keys(['orig_size', 'size', 'boxes', 'labels', 'iscrowd', 'area', 'filename', 'obj_labels', 'verb_labels', 'sub_boxes', 'obj_boxes', 'matching_labels']), dict_keys(['orig_size', 'size', 'boxes', 'labels', 'iscrowd', 'area', 'filename', 'obj_labels', 'verb_labels', 'sub_boxes', 'obj_boxes', 'matching_labels'])]\n",
      "{'loss_obj_bbox': tensor(1.0215, device='cuda:0'),\n",
      " 'loss_obj_bbox_0': tensor(1.0029, device='cuda:0'),\n",
      " 'loss_obj_bbox_1': tensor(1.0207, device='cuda:0'),\n",
      " 'loss_obj_ce': tensor(4.5385, device='cuda:0'),\n",
      " 'loss_obj_ce_0': tensor(4.7198, device='cuda:0'),\n",
      " 'loss_obj_ce_1': tensor(4.6062, device='cuda:0'),\n",
      " 'loss_obj_giou': tensor(1.0665, device='cuda:0'),\n",
      " 'loss_obj_giou_0': tensor(1.0534, device='cuda:0'),\n",
      " 'loss_obj_giou_1': tensor(1.0688, device='cuda:0'),\n",
      " 'loss_sub_bbox': tensor(0.6511, device='cuda:0'),\n",
      " 'loss_sub_bbox_0': tensor(0.6564, device='cuda:0'),\n",
      " 'loss_sub_bbox_1': tensor(0.6529, device='cuda:0'),\n",
      " 'loss_sub_giou': tensor(0.7263, device='cuda:0'),\n",
      " 'loss_sub_giou_0': tensor(0.7395, device='cuda:0'),\n",
      " 'loss_sub_giou_1': tensor(0.7239, device='cuda:0'),\n",
      " 'loss_verb_ce': tensor(68.6465, device='cuda:0'),\n",
      " 'loss_verb_ce_0': tensor(83.0537, device='cuda:0'),\n",
      " 'loss_verb_ce_1': tensor(73.8847, device='cuda:0'),\n",
      " 'obj_cardinality_error': tensor(99.5000, device='cuda:0'),\n",
      " 'obj_cardinality_error_0': tensor(99.5000, device='cuda:0'),\n",
      " 'obj_cardinality_error_1': tensor(99.5000, device='cuda:0'),\n",
      " 'obj_class_error': tensor(100., device='cuda:0')}\n",
      "[dict_keys(['orig_size', 'size', 'boxes', 'labels', 'iscrowd', 'area', 'filename', 'obj_labels', 'verb_labels', 'sub_boxes', 'obj_boxes', 'matching_labels']), dict_keys(['orig_size', 'size', 'boxes', 'labels', 'iscrowd', 'area', 'filename', 'obj_labels', 'verb_labels', 'sub_boxes', 'obj_boxes', 'matching_labels'])]\n",
      "{'loss_obj_bbox': tensor(1.0189, device='cuda:0'),\n",
      " 'loss_obj_bbox_0': tensor(1.0200, device='cuda:0'),\n",
      " 'loss_obj_bbox_1': tensor(1.0292, device='cuda:0'),\n",
      " 'loss_obj_ce': tensor(4.4857, device='cuda:0'),\n",
      " 'loss_obj_ce_0': tensor(4.6851, device='cuda:0'),\n",
      " 'loss_obj_ce_1': tensor(4.5497, device='cuda:0'),\n",
      " 'loss_obj_giou': tensor(1.2310, device='cuda:0'),\n",
      " 'loss_obj_giou_0': tensor(1.2372, device='cuda:0'),\n",
      " 'loss_obj_giou_1': tensor(1.2432, device='cuda:0'),\n",
      " 'loss_sub_bbox': tensor(0.6696, device='cuda:0'),\n",
      " 'loss_sub_bbox_0': tensor(0.6504, device='cuda:0'),\n",
      " 'loss_sub_bbox_1': tensor(0.6611, device='cuda:0'),\n",
      " 'loss_sub_giou': tensor(0.9003, device='cuda:0'),\n",
      " 'loss_sub_giou_0': tensor(0.8853, device='cuda:0'),\n",
      " 'loss_sub_giou_1': tensor(0.8970, device='cuda:0'),\n",
      " 'loss_verb_ce': tensor(78.1387, device='cuda:0'),\n",
      " 'loss_verb_ce_0': tensor(94.2690, device='cuda:0'),\n",
      " 'loss_verb_ce_1': tensor(84.1310, device='cuda:0'),\n",
      " 'obj_cardinality_error': tensor(99., device='cuda:0'),\n",
      " 'obj_cardinality_error_0': tensor(99., device='cuda:0'),\n",
      " 'obj_cardinality_error_1': tensor(99., device='cuda:0'),\n",
      " 'obj_class_error': tensor(100., device='cuda:0')}\n",
      "[dict_keys(['orig_size', 'size', 'boxes', 'labels', 'iscrowd', 'area', 'filename', 'obj_labels', 'verb_labels', 'sub_boxes', 'obj_boxes', 'matching_labels']), dict_keys(['orig_size', 'size', 'boxes', 'labels', 'iscrowd', 'area', 'filename', 'obj_labels', 'verb_labels', 'sub_boxes', 'obj_boxes', 'matching_labels'])]\n",
      "{'loss_obj_bbox': tensor(1.1402, device='cuda:0'),\n",
      " 'loss_obj_bbox_0': tensor(1.1158, device='cuda:0'),\n",
      " 'loss_obj_bbox_1': tensor(1.1365, device='cuda:0'),\n",
      " 'loss_obj_ce': tensor(4.5366, device='cuda:0'),\n",
      " 'loss_obj_ce_0': tensor(4.7485, device='cuda:0'),\n",
      " 'loss_obj_ce_1': tensor(4.5897, device='cuda:0'),\n",
      " 'loss_obj_giou': tensor(1.0877, device='cuda:0'),\n",
      " 'loss_obj_giou_0': tensor(1.1179, device='cuda:0'),\n",
      " 'loss_obj_giou_1': tensor(1.0888, device='cuda:0'),\n",
      " 'loss_sub_bbox': tensor(0.5878, device='cuda:0'),\n",
      " 'loss_sub_bbox_0': tensor(0.5885, device='cuda:0'),\n",
      " 'loss_sub_bbox_1': tensor(0.5906, device='cuda:0'),\n",
      " 'loss_sub_giou': tensor(0.9184, device='cuda:0'),\n",
      " 'loss_sub_giou_0': tensor(0.9235, device='cuda:0'),\n",
      " 'loss_sub_giou_1': tensor(0.9273, device='cuda:0'),\n",
      " 'loss_verb_ce': tensor(32.4125, device='cuda:0'),\n",
      " 'loss_verb_ce_0': tensor(38.7612, device='cuda:0'),\n",
      " 'loss_verb_ce_1': tensor(34.6769, device='cuda:0'),\n",
      " 'obj_cardinality_error': tensor(96., device='cuda:0'),\n",
      " 'obj_cardinality_error_0': tensor(96., device='cuda:0'),\n",
      " 'obj_cardinality_error_1': tensor(96., device='cuda:0'),\n",
      " 'obj_class_error': tensor(100., device='cuda:0')}\n"
     ]
    },
    {
     "ename": "",
     "evalue": "",
     "output_type": "error",
     "traceback": [
      "\u001b[1;31mThe Kernel crashed while executing code in the the current cell or a previous cell. Please review the code in the cell(s) to identify a possible cause of the failure. Click <a href='https://aka.ms/vscodeJupyterKernelCrash'>here</a> for more info. View Jupyter <a href='command:jupyter.viewOutput'>log</a> for further details."
     ]
    }
   ],
   "source": [
    "for dataloader, dataset_name in zip(train_data_loader, dataset_names):\n",
    "    with torch.no_grad():\n",
    "        for idx, batch in enumerate(dataloader):\n",
    "            if idx > 2:\n",
    "                break\n",
    "            print([x['instances'].keys() for x in batch])\n",
    "            losses = model(batch)\n",
    "            pprint(losses)\n"
   ]
  },
  {
   "cell_type": "code",
   "execution_count": null,
   "metadata": {},
   "outputs": [],
   "source": []
  }
 ],
 "metadata": {
  "kernelspec": {
   "display_name": "conda_X_decoder",
   "language": "python",
   "name": "python3"
  },
  "language_info": {
   "codemirror_mode": {
    "name": "ipython",
    "version": 3
   },
   "file_extension": ".py",
   "mimetype": "text/x-python",
   "name": "python",
   "nbconvert_exporter": "python",
   "pygments_lexer": "ipython3",
   "version": "3.9.0"
  },
  "orig_nbformat": 4
 },
 "nbformat": 4,
 "nbformat_minor": 2
}
