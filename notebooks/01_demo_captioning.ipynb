{
 "cells": [
  {
   "cell_type": "code",
   "execution_count": 1,
   "metadata": {},
   "outputs": [
    {
     "name": "stderr",
     "output_type": "stream",
     "text": [
      "/home/djjin/anaconda3/envs/conda_visual_HPE/lib/python3.9/site-packages/tqdm/auto.py:21: TqdmWarning: IProgress not found. Please update jupyter and ipywidgets. See https://ipywidgets.readthedocs.io/en/stable/user_install.html\n",
      "  from .autonotebook import tqdm as notebook_tqdm\n",
      "Invalid MIT-MAGIC-COOKIE-1 key"
     ]
    }
   ],
   "source": [
    "import os\n",
    "import sys\n",
    "import logging\n",
    "\n",
    "pth = '/'.join(sys.path[0].split('/')[:-1])\n",
    "sys.path.insert(0, pth)\n",
    "\n",
    "from PIL import Image\n",
    "import numpy as np\n",
    "np.random.seed(0)\n",
    "import cv2\n",
    "\n",
    "import torch\n",
    "from torchvision import transforms\n",
    "\n",
    "from utils.arguments import load_opt_command, load_config_dict_to_opt, load_opt_from_config_files\n",
    "\n",
    "\n",
    "from xdecoder.BaseModel import BaseModel\n",
    "from xdecoder import build_model\n",
    "from utils.visualizer import Visualizer\n",
    "from utils.distributed import init_distributed\n",
    "\n",
    "\n",
    "logger = logging.getLogger(__name__)"
   ]
  },
  {
   "cell_type": "code",
   "execution_count": 2,
   "metadata": {},
   "outputs": [],
   "source": [
    "def main(args=None):\n",
    "    '''\n",
    "    Main execution point for PyLearn.\n",
    "    '''\n",
    "    opt, cmdline_args = load_opt_command(args)\n",
    "    if cmdline_args.user_dir:\n",
    "        absolute_user_dir = os.path.abspath(cmdline_args.user_dir)\n",
    "        opt['user_dir'] = absolute_user_dir\n",
    "    opt = init_distributed(opt)\n",
    "\n",
    "    # META DATA\n",
    "    pretrained_pth = os.path.join(opt['WEIGHT'])\n",
    "    if 'novg' not in pretrained_pth:\n",
    "        assert False, \"Using the ckpt without visual genome training data will be much better.\"\n",
    "    output_root = './output'\n",
    "    image_pth = 'images/london.jpg'\n",
    "\n",
    "    model = BaseModel(opt, build_model(opt)).from_pretrained(pretrained_pth).eval().cuda()\n",
    "    model.model.sem_seg_head.predictor.lang_encoder.get_text_embeddings([\"background\"], is_eval=False)\n",
    "\n",
    "    t = []\n",
    "    t.append(transforms.Resize(224, interpolation=Image.BICUBIC))\n",
    "    transform = transforms.Compose(t)\n",
    "\n",
    "    with torch.no_grad():\n",
    "        image_ori = Image.open(image_pth).convert(\"RGB\")\n",
    "        width = image_ori.size[0]\n",
    "        height = image_ori.size[1]\n",
    "        image = transform(image_ori)\n",
    "        image = np.asarray(image)\n",
    "        image_ori = np.asarray(image_ori)\n",
    "        images = torch.from_numpy(image.copy()).permute(2,0,1).cuda()\n",
    "\n",
    "        batch_inputs = [{'image': images, 'height': height, 'width': width, 'image_id': 0}]\n",
    "        outputs = model.model.evaluate_captioning(batch_inputs)\n",
    "        text = outputs[-1]['captioning_text']\n",
    "\n",
    "        image_ori = image_ori[:,:,::-1].copy()\n",
    "        cv2.rectangle(image_ori, (0, 0), (width, 60), (0,0,0), -1)\n",
    "        font                   = cv2.FONT_HERSHEY_DUPLEX\n",
    "        fontScale              = 1.2\n",
    "        thickness              = 2\n",
    "        lineType               = 2\n",
    "        bottomLeftCornerOfText = (10, 40)\n",
    "        fontColor              = [255,255,255]\n",
    "        cv2.putText(image_ori, text,\n",
    "            bottomLeftCornerOfText,\n",
    "            font, \n",
    "            fontScale,\n",
    "            fontColor,\n",
    "            thickness,\n",
    "            lineType)\n",
    "\n",
    "        if not os.path.exists(output_root):\n",
    "            os.makedirs(output_root)\n",
    "        cv2.imwrite(os.path.join(output_root, 'captioning.png'), image_ori)"
   ]
  },
  {
   "cell_type": "code",
   "execution_count": 3,
   "metadata": {},
   "outputs": [
    {
     "name": "stderr",
     "output_type": "stream",
     "text": [
      "usage: ipykernel_launcher.py [-h] --conf_files CONF_FILES [CONF_FILES ...]\n",
      "                             [--user_dir USER_DIR]\n",
      "                             [--config_overrides [CONFIG_OVERRIDES ...]]\n",
      "                             [--overrides ...]\n",
      "                             command\n",
      "ipykernel_launcher.py: error: the following arguments are required: command, --conf_files\n"
     ]
    },
    {
     "ename": "SystemExit",
     "evalue": "2",
     "output_type": "error",
     "traceback": [
      "An exception has occurred, use %tb to see the full traceback.\n",
      "\u001b[0;31mSystemExit\u001b[0m\u001b[0;31m:\u001b[0m 2\n"
     ]
    },
    {
     "name": "stderr",
     "output_type": "stream",
     "text": [
      "/home/djjin/anaconda3/envs/conda_visual_HPE/lib/python3.9/site-packages/IPython/core/interactiveshell.py:3513: UserWarning: To exit: use 'exit', 'quit', or Ctrl-D.\n",
      "  warn(\"To exit: use 'exit', 'quit', or Ctrl-D.\", stacklevel=1)\n"
     ]
    }
   ],
   "source": [
    "main()"
   ]
  }
 ],
 "metadata": {
  "kernelspec": {
   "display_name": "conda_X_decoder",
   "language": "python",
   "name": "python3"
  },
  "language_info": {
   "codemirror_mode": {
    "name": "ipython",
    "version": 3
   },
   "file_extension": ".py",
   "mimetype": "text/x-python",
   "name": "python",
   "nbconvert_exporter": "python",
   "pygments_lexer": "ipython3",
   "version": "3.9.16"
  },
  "orig_nbformat": 4
 },
 "nbformat": 4,
 "nbformat_minor": 2
}
